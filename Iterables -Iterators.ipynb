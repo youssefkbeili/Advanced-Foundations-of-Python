{
 "cells": [
  {
   "cell_type": "markdown",
   "metadata": {},
   "source": [
    "## Iterables and Iterators"
   ]
  },
  {
   "cell_type": "markdown",
   "metadata": {},
   "source": [
    "### Python Iterators"
   ]
  },
  {
   "cell_type": "markdown",
   "metadata": {},
   "source": [
    "An iterator is an object that contains a countable number of values.\n",
    "\n",
    "An iterator is an object that can be iterated upon, meaning that you can traverse through all the values.\n",
    "\n",
    "Technically, in Python, an iterator is an object which implements the iterator protocol, which consist of the methods **\\_\\_iter\\_\\_()** and  **\\_\\_next\\_\\_()**."
   ]
  },
  {
   "cell_type": "markdown",
   "metadata": {},
   "source": [
    "**Create Iterators**"
   ]
  },
  {
   "cell_type": "code",
   "execution_count": 1,
   "metadata": {},
   "outputs": [
    {
     "name": "stdout",
     "output_type": "stream",
     "text": [
      "1\n",
      "2\n",
      "3\n"
     ]
    }
   ],
   "source": [
    "numbers =[1,2,3,4,5,6,8]\n",
    "\n",
    "new_iterator = iter(numbers)\n",
    "\n",
    "print(next(new_iterator))\n",
    "print(next(new_iterator))\n",
    "print(next(new_iterator))"
   ]
  },
  {
   "cell_type": "markdown",
   "metadata": {},
   "source": [
    "**build an iterator base on a string**"
   ]
  },
  {
   "cell_type": "code",
   "execution_count": 2,
   "metadata": {},
   "outputs": [
    {
     "name": "stdout",
     "output_type": "stream",
     "text": [
      "j\n",
      "u\n",
      "s\n",
      "t\n"
     ]
    }
   ],
   "source": [
    "text = \"just a simple text\"\n",
    "\n",
    "new_iterator = iter(text)\n",
    "\n",
    "print(next(new_iterator))\n",
    "print(next(new_iterator))\n",
    "print(next(new_iterator))\n",
    "print(next(new_iterator))"
   ]
  },
  {
   "cell_type": "markdown",
   "metadata": {},
   "source": [
    "**Building iterator using OOP**"
   ]
  },
  {
   "cell_type": "code",
   "execution_count": 3,
   "metadata": {},
   "outputs": [
    {
     "name": "stdout",
     "output_type": "stream",
     "text": [
      "0\n",
      "1\n",
      "2\n",
      "3\n"
     ]
    }
   ],
   "source": [
    "class Iterating:\n",
    "    def __iter__(self):\n",
    "        self.count = 0 \n",
    "        return self\n",
    "\n",
    "    def __next__(self):\n",
    "        x = self.count\n",
    "        self.count += 1\n",
    "        return x\n",
    "\n",
    "new_iterating = Iterating()\n",
    "new_iterator = iter(new_iterating)\n",
    "\n",
    "print(next(new_iterator))\n",
    "print(next(new_iterator))\n",
    "print(next(new_iterator))\n",
    "print(next(new_iterator))"
   ]
  },
  {
   "cell_type": "markdown",
   "metadata": {},
   "source": [
    "**Raise stopiteration**"
   ]
  },
  {
   "cell_type": "code",
   "execution_count": 7,
   "metadata": {},
   "outputs": [
    {
     "name": "stdout",
     "output_type": "stream",
     "text": [
      "0\n",
      "1\n",
      "2\n",
      "3\n",
      "4\n",
      "5\n",
      "6\n",
      "7\n",
      "8\n",
      "9\n",
      "10\n",
      "11\n",
      "12\n",
      "13\n",
      "14\n"
     ]
    }
   ],
   "source": [
    "class Iterating:\n",
    "    def __iter__(self):\n",
    "        self.count = 0 \n",
    "        return self\n",
    "\n",
    "    def __next__(self):\n",
    "        x = self.count\n",
    "\n",
    "        if self.count < 15:\n",
    "            self.count += 1\n",
    "            return x\n",
    "\n",
    "        raise StopIteration\n",
    "\n",
    "new_iterating = Iterating()\n",
    "new_iterator = iter(new_iterating)\n",
    "\n",
    "for item in new_iterator:\n",
    "    print(item)"
   ]
  }
 ],
 "metadata": {
  "kernelspec": {
   "display_name": "Python 3.8.10 64-bit",
   "language": "python",
   "name": "python3"
  },
  "language_info": {
   "codemirror_mode": {
    "name": "ipython",
    "version": 3
   },
   "file_extension": ".py",
   "mimetype": "text/x-python",
   "name": "python",
   "nbconvert_exporter": "python",
   "pygments_lexer": "ipython3",
   "version": "3.8.10"
  },
  "orig_nbformat": 4,
  "vscode": {
   "interpreter": {
    "hash": "916dbcbb3f70747c44a77c7bcd40155683ae19c65e1c03b4aa3499c5328201f1"
   }
  }
 },
 "nbformat": 4,
 "nbformat_minor": 2
}
